{
 "cells": [
  {
   "cell_type": "code",
   "execution_count": 20,
   "metadata": {},
   "outputs": [
    {
     "name": "stdout",
     "output_type": "stream",
     "text": [
      "started at 21:47:05\n",
      "VIVEK\n",
      "REDDYVARI\n",
      "finished at 21:47:08\n"
     ]
    }
   ],
   "source": [
    "# Import asyncio and time \n",
    "import asyncio\n",
    "import time\n",
    "\n",
    "# Define the input with (delay in seconds, what to do)\n",
    "# If i wanted to print my first-name and after 3 seconds second-name\n",
    "async def full_name(delay, name):\n",
    "    await asyncio.sleep(delay)\n",
    "    print(name)\n",
    "\n",
    "# Main module \n",
    "async def main():\n",
    "    print(f\"started at {time.strftime('%X')}\")\n",
    "    \n",
    "    # first name, changing it to upper\n",
    "    first_name = 'vivek'\n",
    "    first_name = first_name.upper()\n",
    "    await full_name(1, first_name)\n",
    "    \n",
    "    second_name = 'reddyvari'\n",
    "    second_name = second_name.upper()\n",
    "    await full_name(2, second_name)\n",
    "\n",
    "    print(f\"finished at {time.strftime('%X')}\")\n",
    "# Run the main module\n",
    "# if in jupyter notebook use await, as the jupyter notebook is already running loop\n",
    "await(main())\n",
    "          \n",
    "# If IDE, use asyncio.run(main())\n",
    "# asyncio.run(main())"
   ]
  },
  {
   "cell_type": "code",
   "execution_count": 24,
   "metadata": {},
   "outputs": [
    {
     "name": "stdout",
     "output_type": "stream",
     "text": [
      "Task 1: Compute factorial(2)...\n",
      "Task 2: Compute factorial(2)...\n",
      "Task 3: Compute factorial(2)...\n",
      "Task 1: factorial(2) = 2\n",
      "Task 2: Compute factorial(3)...\n",
      "Task 3: Compute factorial(3)...\n",
      "Task 2: factorial(3) = 6\n",
      "Task 3: Compute factorial(4)...\n",
      "Task 3: factorial(4) = 24\n"
     ]
    }
   ],
   "source": [
    "# Running Tasks Concurrently\n",
    "\n",
    "import asyncio\n",
    "\n",
    "async def factorial(name, number):\n",
    "    k = 1\n",
    "    for i in range(2, number + 1):\n",
    "        print(f\"Task {name}: Compute factorial({i})...\")\n",
    "        # Explicitly can say after certain period of time start executing (here it is set to 1 second)\n",
    "        await asyncio.sleep(1)\n",
    "        k *= i\n",
    "    print(f\"Task {name}: factorial({number}) = {k}\")\n",
    "\n",
    "async def main():\n",
    "    # Schedule three calls *concurrently*:\n",
    "    await asyncio.gather(\n",
    "        factorial(\"1\", 2),\n",
    "        factorial(\"2\", 3),\n",
    "        factorial(\"3\", 4),\n",
    "    )\n",
    "\n",
    "await(main())\n",
    "\n",
    "# If IDE, use asyncio.run(main())\n",
    "# asyncio.run(main())"
   ]
  },
  {
   "cell_type": "code",
   "execution_count": null,
   "metadata": {},
   "outputs": [],
   "source": []
  }
 ],
 "metadata": {
  "kernelspec": {
   "display_name": "Python 3",
   "language": "python",
   "name": "python3"
  },
  "language_info": {
   "codemirror_mode": {
    "name": "ipython",
    "version": 3
   },
   "file_extension": ".py",
   "mimetype": "text/x-python",
   "name": "python",
   "nbconvert_exporter": "python",
   "pygments_lexer": "ipython3",
   "version": "3.7.1"
  }
 },
 "nbformat": 4,
 "nbformat_minor": 2
}
